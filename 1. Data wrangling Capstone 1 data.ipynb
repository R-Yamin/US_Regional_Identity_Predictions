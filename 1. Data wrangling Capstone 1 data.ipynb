{
 "cells": [
  {
   "cell_type": "markdown",
   "metadata": {},
   "source": [
    "# DATA wrangling and cleaning for Midwest and South data"
   ]
  },
  {
   "cell_type": "code",
   "execution_count": 1,
   "metadata": {},
   "outputs": [],
   "source": [
    "# Import the necessary modules and libraries.\n",
    "\n",
    "import pandas as pd\n",
    "import numpy as np"
   ]
  },
  {
   "cell_type": "code",
   "execution_count": 2,
   "metadata": {},
   "outputs": [],
   "source": [
    "# Read the raw CSV for both south and midwest data and storing in variables:\n",
    "# unclean_south and unclean_midwest. Skipped the first row because it contained\n",
    "# unnecessary data.\n",
    "\n",
    "unclean_south = pd.read_csv('Raw_Data/SOUTH.csv', skiprows = [0])\n",
    "unclean_midwest = pd.read_csv('Raw_Data/MIDWEST.csv', skiprows =[0])"
   ]
  },
  {
   "cell_type": "markdown",
   "metadata": {},
   "source": [
    "## 1. Exploring and Cleaning South Data"
   ]
  },
  {
   "cell_type": "code",
   "execution_count": 3,
   "metadata": {},
   "outputs": [
    {
     "name": "stdout",
     "output_type": "stream",
     "text": [
      "                                          Open-Ended Response  A lot  Some  \\\n",
      "3190851410                                         The south.    NaN  Some   \n",
      "3190823139                                                Usa    NaN   NaN   \n",
      "3190763877                                            midwest    NaN   NaN   \n",
      "3190684926                                                usa    NaN   NaN   \n",
      "3190455016  The Last Bastion of Western Civilization and F...  A lot   NaN   \n",
      "\n",
      "            Not much  Not at all Arkansas  Louisiana  Oklahoma  Texas  \\\n",
      "3190851410       NaN         NaN      NaN  Louisiana       NaN    NaN   \n",
      "3190823139       NaN  Not at all      NaN        NaN       NaN  Texas   \n",
      "3190763877  Not much         NaN      NaN  Louisiana       NaN    NaN   \n",
      "3190684926       NaN  Not at all      NaN  Louisiana       NaN    NaN   \n",
      "3190455016       NaN         NaN      NaN  Louisiana  Oklahoma  Texas   \n",
      "\n",
      "            Alabama  ... Graduate degree New England Middle Atlantic  \\\n",
      "3190851410  Alabama  ...             NaN         NaN             NaN   \n",
      "3190823139      NaN  ...             NaN         NaN             NaN   \n",
      "3190763877  Alabama  ...             NaN         NaN             NaN   \n",
      "3190684926      NaN  ...             NaN         NaN             NaN   \n",
      "3190455016  Alabama  ...             NaN         NaN             NaN   \n",
      "\n",
      "           East North Central West North Central  South Atlantic  \\\n",
      "3190851410                NaN                NaN  South Atlantic   \n",
      "3190823139                NaN                NaN             NaN   \n",
      "3190763877                NaN                NaN             NaN   \n",
      "3190684926                NaN                NaN             NaN   \n",
      "3190455016                NaN                NaN             NaN   \n",
      "\n",
      "           East South Central  West South Central Mountain Pacific  \n",
      "3190851410                NaN                 NaN      NaN     NaN  \n",
      "3190823139                NaN                 NaN      NaN     NaN  \n",
      "3190763877                NaN  West South Central      NaN     NaN  \n",
      "3190684926                NaN  West South Central      NaN     NaN  \n",
      "3190455016                NaN  West South Central      NaN     NaN  \n",
      "\n",
      "[5 rows x 57 columns]\n",
      "<class 'pandas.core.frame.DataFrame'>\n",
      "Int64Index: 2528 entries, 3190851410 to 3184072994\n",
      "Data columns (total 57 columns):\n",
      "Open-Ended Response             2528 non-null object\n",
      "A lot                           579 non-null object\n",
      "Some                            556 non-null object\n",
      "Not much                        457 non-null object\n",
      "Not at all                      936 non-null object\n",
      "Arkansas                        1389 non-null object\n",
      "Louisiana                       2115 non-null object\n",
      "Oklahoma                        477 non-null object\n",
      "Texas                           1426 non-null object\n",
      "Alabama                         2247 non-null object\n",
      "Kentucky                        1319 non-null object\n",
      "Mississippi                     2097 non-null object\n",
      "Tennessee                       1762 non-null object\n",
      "Florida                         1793 non-null object\n",
      "Georgia                         2276 non-null object\n",
      "Maryland                        162 non-null object\n",
      "North Carolina                  1564 non-null object\n",
      "South Carolina                  2043 non-null object\n",
      "Virginia                        1216 non-null object\n",
      "West Virginia                   710 non-null object\n",
      "Delaware                        41 non-null object\n",
      "Arizona                         244 non-null object\n",
      "New Mexico                      295 non-null object\n",
      "Colorado                        28 non-null object\n",
      "Kansas                          155 non-null object\n",
      "Missouri                        470 non-null object\n",
      "Illinois                        21 non-null object\n",
      "Indiana                         39 non-null object\n",
      "Ohio                            24 non-null object\n",
      "Pennsylvania                    11 non-null object\n",
      "Open-Ended Response.1           2332 non-null object\n",
      "Male                            1088 non-null object\n",
      "Female                          1221 non-null object\n",
      "< 18                            0 non-null float64\n",
      "18-29                           486 non-null object\n",
      "30-44                           570 non-null object\n",
      "45-60                           646 non-null object\n",
      "> 60                            607 non-null object\n",
      "$0 - $24,999                    250 non-null object\n",
      "$25,000 - $49,999               407 non-null object\n",
      "$50,000 - $99,999               700 non-null object\n",
      "$100,000 - $149,999             302 non-null object\n",
      "$150,000+                       614 non-null object\n",
      "Less than high school degree    21 non-null object\n",
      "High school degree              211 non-null object\n",
      "Some college                    720 non-null object\n",
      "Associate or bachelor degree    717 non-null object\n",
      "Graduate degree                 610 non-null object\n",
      "New England                     78 non-null object\n",
      "Middle Atlantic                 141 non-null object\n",
      "East North Central              183 non-null object\n",
      "West North Central              101 non-null object\n",
      "South Atlantic                  861 non-null object\n",
      "East South Central              190 non-null object\n",
      "West South Central              466 non-null object\n",
      "Mountain                        102 non-null object\n",
      "Pacific                         177 non-null object\n",
      "dtypes: float64(1), object(56)\n",
      "memory usage: 1.1+ MB\n",
      "None\n"
     ]
    }
   ],
   "source": [
    "# Look at head and explore the info of the raw data\n",
    "\n",
    "print(unclean_south.head())\n",
    "print(unclean_south.info())"
   ]
  },
  {
   "cell_type": "code",
   "execution_count": 4,
   "metadata": {},
   "outputs": [
    {
     "data": {
      "text/plain": [
       "Index(['Open-Ended Response', 'A lot', 'Some', 'Not much', 'Not at all',\n",
       "       'Arkansas', 'Louisiana', 'Oklahoma', 'Texas', 'Alabama', 'Kentucky',\n",
       "       'Mississippi', 'Tennessee', 'Florida', 'Georgia', 'Maryland',\n",
       "       'North Carolina', 'South Carolina', 'Virginia', 'West Virginia',\n",
       "       'Delaware', 'Arizona', 'New Mexico', 'Colorado', 'Kansas', 'Missouri',\n",
       "       'Illinois', 'Indiana', 'Ohio', 'Pennsylvania', 'Open-Ended Response.1',\n",
       "       'Male', 'Female', '< 18', '18-29', '30-44', '45-60', '> 60',\n",
       "       '$0 - $24,999', '$25,000 - $49,999', '$50,000 - $99,999',\n",
       "       '$100,000 - $149,999', '$150,000+', 'Less than high school degree',\n",
       "       'High school degree', 'Some college', 'Associate or bachelor degree',\n",
       "       'Graduate degree', 'New England', 'Middle Atlantic',\n",
       "       'East North Central', 'West North Central', 'South Atlantic',\n",
       "       'East South Central', 'West South Central', 'Mountain', 'Pacific'],\n",
       "      dtype='object')"
      ]
     },
     "execution_count": 4,
     "metadata": {},
     "output_type": "execute_result"
    }
   ],
   "source": [
    "# Get column names for reference\n",
    "\n",
    "unclean_south.columns"
   ]
  },
  {
   "cell_type": "code",
   "execution_count": 5,
   "metadata": {},
   "outputs": [],
   "source": [
    "# Create a clean dataframe to store all cleaned data: clean_south\n",
    "\n",
    "clean_south = pd.DataFrame(unclean_south['Open-Ended Response']).rename(\n",
    "                columns = {'Open-Ended Response': 'Written in Response'}\n",
    "                )"
   ]
  },
  {
   "cell_type": "code",
   "execution_count": 6,
   "metadata": {},
   "outputs": [
    {
     "data": {
      "text/html": [
       "<div>\n",
       "<style scoped>\n",
       "    .dataframe tbody tr th:only-of-type {\n",
       "        vertical-align: middle;\n",
       "    }\n",
       "\n",
       "    .dataframe tbody tr th {\n",
       "        vertical-align: top;\n",
       "    }\n",
       "\n",
       "    .dataframe thead th {\n",
       "        text-align: right;\n",
       "    }\n",
       "</style>\n",
       "<table border=\"1\" class=\"dataframe\">\n",
       "  <thead>\n",
       "    <tr style=\"text-align: right;\">\n",
       "      <th></th>\n",
       "      <th>Written in Response</th>\n",
       "      <th>Degree of ident.</th>\n",
       "    </tr>\n",
       "  </thead>\n",
       "  <tbody>\n",
       "    <tr>\n",
       "      <th>3190851410</th>\n",
       "      <td>The south.</td>\n",
       "      <td>Some</td>\n",
       "    </tr>\n",
       "    <tr>\n",
       "      <th>3190823139</th>\n",
       "      <td>Usa</td>\n",
       "      <td>Not at all</td>\n",
       "    </tr>\n",
       "    <tr>\n",
       "      <th>3190763877</th>\n",
       "      <td>midwest</td>\n",
       "      <td>Not much</td>\n",
       "    </tr>\n",
       "    <tr>\n",
       "      <th>3190684926</th>\n",
       "      <td>usa</td>\n",
       "      <td>Not at all</td>\n",
       "    </tr>\n",
       "    <tr>\n",
       "      <th>3190455016</th>\n",
       "      <td>The Last Bastion of Western Civilization and F...</td>\n",
       "      <td>A lot</td>\n",
       "    </tr>\n",
       "  </tbody>\n",
       "</table>\n",
       "</div>"
      ],
      "text/plain": [
       "                                          Written in Response Degree of ident.\n",
       "3190851410                                         The south.             Some\n",
       "3190823139                                                Usa       Not at all\n",
       "3190763877                                            midwest         Not much\n",
       "3190684926                                                usa       Not at all\n",
       "3190455016  The Last Bastion of Western Civilization and F...            A lot"
      ]
     },
     "execution_count": 6,
     "metadata": {},
     "output_type": "execute_result"
    }
   ],
   "source": [
    "# Condense \"Degree of Identifying\" responses to a single column, moving to clean dataframe\n",
    "\n",
    "clean_south['Degree of ident.'] = unclean_south.iloc[:,1:5].ffill(1).iloc[:,3]\n",
    "\n",
    "\n",
    "# Check result\n",
    "\n",
    "clean_south.head()"
   ]
  },
  {
   "cell_type": "code",
   "execution_count": 24,
   "metadata": {},
   "outputs": [
    {
     "data": {
      "text/plain": [
       "pandas.core.series.Series"
      ]
     },
     "execution_count": 24,
     "metadata": {},
     "output_type": "execute_result"
    }
   ],
   "source": [
    "# Combine only the states that respondants said they thought of as being in the south\n",
    "\n",
    "southern_resp = unclean_south.iloc[:,5:30]\n",
    "\n",
    "clean_south['Southern?'] = southern_resp.apply(lambda row: [x for x in row.dropna()], axis=1)\n",
    "\n",
    "# Check result\n",
    "\n",
    "clean_south.head()"
   ]
  },
  {
   "cell_type": "code",
   "execution_count": 8,
   "metadata": {},
   "outputs": [
    {
     "data": {
      "text/html": [
       "<div>\n",
       "<style scoped>\n",
       "    .dataframe tbody tr th:only-of-type {\n",
       "        vertical-align: middle;\n",
       "    }\n",
       "\n",
       "    .dataframe tbody tr th {\n",
       "        vertical-align: top;\n",
       "    }\n",
       "\n",
       "    .dataframe thead th {\n",
       "        text-align: right;\n",
       "    }\n",
       "</style>\n",
       "<table border=\"1\" class=\"dataframe\">\n",
       "  <thead>\n",
       "    <tr style=\"text-align: right;\">\n",
       "      <th></th>\n",
       "      <th>Written in Response</th>\n",
       "      <th>Degree of ident.</th>\n",
       "      <th>Southern?</th>\n",
       "      <th>Zipcode</th>\n",
       "    </tr>\n",
       "  </thead>\n",
       "  <tbody>\n",
       "    <tr>\n",
       "      <th>3190851410</th>\n",
       "      <td>The south.</td>\n",
       "      <td>Some</td>\n",
       "      <td>[Louisiana, Alabama, Mississippi, Tennessee, F...</td>\n",
       "      <td>32440</td>\n",
       "    </tr>\n",
       "    <tr>\n",
       "      <th>3190823139</th>\n",
       "      <td>Usa</td>\n",
       "      <td>Not at all</td>\n",
       "      <td>[Texas, South Carolina]</td>\n",
       "      <td>NaN</td>\n",
       "    </tr>\n",
       "    <tr>\n",
       "      <th>3190763877</th>\n",
       "      <td>midwest</td>\n",
       "      <td>Not much</td>\n",
       "      <td>[Louisiana, Alabama, Kentucky, Mississippi, Te...</td>\n",
       "      <td>74014</td>\n",
       "    </tr>\n",
       "    <tr>\n",
       "      <th>3190684926</th>\n",
       "      <td>usa</td>\n",
       "      <td>Not at all</td>\n",
       "      <td>[Louisiana]</td>\n",
       "      <td>78065</td>\n",
       "    </tr>\n",
       "    <tr>\n",
       "      <th>3190455016</th>\n",
       "      <td>The Last Bastion of Western Civilization and F...</td>\n",
       "      <td>A lot</td>\n",
       "      <td>[Louisiana, Oklahoma, Texas, Alabama, Kentucky...</td>\n",
       "      <td>78758</td>\n",
       "    </tr>\n",
       "  </tbody>\n",
       "</table>\n",
       "</div>"
      ],
      "text/plain": [
       "                                          Written in Response  \\\n",
       "3190851410                                         The south.   \n",
       "3190823139                                                Usa   \n",
       "3190763877                                            midwest   \n",
       "3190684926                                                usa   \n",
       "3190455016  The Last Bastion of Western Civilization and F...   \n",
       "\n",
       "           Degree of ident.  \\\n",
       "3190851410             Some   \n",
       "3190823139       Not at all   \n",
       "3190763877         Not much   \n",
       "3190684926       Not at all   \n",
       "3190455016            A lot   \n",
       "\n",
       "                                                    Southern? Zipcode  \n",
       "3190851410  [Louisiana, Alabama, Mississippi, Tennessee, F...   32440  \n",
       "3190823139                            [Texas, South Carolina]     NaN  \n",
       "3190763877  [Louisiana, Alabama, Kentucky, Mississippi, Te...   74014  \n",
       "3190684926                                        [Louisiana]   78065  \n",
       "3190455016  [Louisiana, Oklahoma, Texas, Alabama, Kentucky...   78758  "
      ]
     },
     "execution_count": 8,
     "metadata": {},
     "output_type": "execute_result"
    }
   ],
   "source": [
    "# Add zipcode column to clean data\n",
    "\n",
    "clean_south['Zipcode'] = unclean_south['Open-Ended Response.1']\n",
    "\n",
    "# Check result\n",
    "clean_south.head()"
   ]
  },
  {
   "cell_type": "code",
   "execution_count": 9,
   "metadata": {},
   "outputs": [],
   "source": [
    "# Condense gender, age, income, education, and census region columns into single,\n",
    "# individual columns for each reponder index.\n",
    "\n",
    "clean_south['Gender'] = unclean_south.loc[:,'Male':'Female'].ffill(1).loc[:,'Female']\n",
    "\n",
    "clean_south['Age Range'] = unclean_south.loc[:, '< 18':'> 60'].ffill(1).loc[:, '> 60']\n",
    "\n",
    "clean_south['Income'] = unclean_south.loc[:, '$0 - $24,999':'$150,000+'].ffill(1).loc[:, '$150,000+']\n",
    "\n",
    "clean_south['Education'] = unclean_south.loc[\n",
    "                            :, 'Less than high school degree':'Graduate degree'\n",
    "                            ].ffill(1).loc[:, 'Graduate degree']\n",
    "\n",
    "clean_south['Census Region'] = unclean_south.loc[:,'New England':'Pacific'].ffill(1).loc[:,'Pacific']\n",
    "\n"
   ]
  },
  {
   "cell_type": "code",
   "execution_count": 10,
   "metadata": {},
   "outputs": [
    {
     "name": "stdout",
     "output_type": "stream",
     "text": [
      "                                          Written in Response  \\\n",
      "3190851410                                         The south.   \n",
      "3190823139                                                Usa   \n",
      "3190763877                                            midwest   \n",
      "3190684926                                                usa   \n",
      "3190455016  The Last Bastion of Western Civilization and F...   \n",
      "\n",
      "           Degree of ident.  \\\n",
      "3190851410             Some   \n",
      "3190823139       Not at all   \n",
      "3190763877         Not much   \n",
      "3190684926       Not at all   \n",
      "3190455016            A lot   \n",
      "\n",
      "                                                    Southern? Zipcode Gender  \\\n",
      "3190851410  [Louisiana, Alabama, Mississippi, Tennessee, F...   32440   Male   \n",
      "3190823139                            [Texas, South Carolina]     NaN    NaN   \n",
      "3190763877  [Louisiana, Alabama, Kentucky, Mississippi, Te...   74014   Male   \n",
      "3190684926                                        [Louisiana]   78065   Male   \n",
      "3190455016  [Louisiana, Oklahoma, Texas, Alabama, Kentucky...   78758   Male   \n",
      "\n",
      "           Age Range               Income                     Education  \\\n",
      "3190851410     30-44  $100,000 - $149,999                  Some college   \n",
      "3190823139       NaN                  NaN                           NaN   \n",
      "3190763877     30-44            $150,000+                  Some college   \n",
      "3190684926     30-44         $0 - $24,999            High school degree   \n",
      "3190455016     30-44            $150,000+  Associate or bachelor degree   \n",
      "\n",
      "                 Census Region  \n",
      "3190851410      South Atlantic  \n",
      "3190823139                 NaN  \n",
      "3190763877  West South Central  \n",
      "3190684926  West South Central  \n",
      "3190455016  West South Central  \n",
      "<class 'pandas.core.frame.DataFrame'>\n",
      "Int64Index: 2528 entries, 3190851410 to 3184072994\n",
      "Data columns (total 9 columns):\n",
      "Written in Response    2528 non-null object\n",
      "Degree of ident.       2528 non-null object\n",
      "Southern?              2528 non-null object\n",
      "Zipcode                2332 non-null object\n",
      "Gender                 2309 non-null object\n",
      "Age Range              2309 non-null object\n",
      "Income                 2273 non-null object\n",
      "Education              2279 non-null object\n",
      "Census Region          2299 non-null object\n",
      "dtypes: object(9)\n",
      "memory usage: 197.5+ KB\n",
      "None\n"
     ]
    }
   ],
   "source": [
    "# Check result\n",
    "\n",
    "print(clean_south.head())\n",
    "print(clean_south.info())"
   ]
  },
  {
   "cell_type": "markdown",
   "metadata": {},
   "source": [
    "## 2. Exploring and Cleaning Midwest Data"
   ]
  },
  {
   "cell_type": "code",
   "execution_count": 11,
   "metadata": {},
   "outputs": [],
   "source": [
    "# Go through same process of cleaning south data, but for midwest\n",
    "\n",
    "clean_midwest = pd.DataFrame(unclean_midwest['Open-Ended Response']).rename(\n",
    "                     columns ={'Open-Ended Response': 'Written in Response'}\n",
    "                     )"
   ]
  },
  {
   "cell_type": "code",
   "execution_count": 12,
   "metadata": {},
   "outputs": [
    {
     "data": {
      "text/plain": [
       "Index(['Open-Ended Response', 'A lot', 'Some', 'Not much', 'Not at all',\n",
       "       'Illinois', 'Indiana', 'Iowa', 'Kansas', 'Michigan', 'Minnesota',\n",
       "       'Missouri', 'Nebraska', 'North Dakota', 'Ohio', 'South Dakota',\n",
       "       'Wisconsin', 'Arkansas', 'Colorado', 'Kentucky', 'Oklahoma',\n",
       "       'Pennsylvania', 'West Virginia', 'Montana', 'Wyoming',\n",
       "       'Open-Ended Response.1', 'Male', 'Female', '< 18', '18-29', '30-44',\n",
       "       '45-60', '> 60', '$0 - $24,999', '$25,000 - $49,999',\n",
       "       '$50,000 - $99,999', '$100,000 - $149,999', '$150,000+',\n",
       "       'Less than high school degree', 'High school degree', 'Some college',\n",
       "       'Associate or bachelor degree', 'Graduate degree', 'New England',\n",
       "       'Middle Atlantic', 'East North Central', 'West North Central',\n",
       "       'South Atlantic', 'East South Central', 'West South Central',\n",
       "       'Mountain', 'Pacific'],\n",
       "      dtype='object')"
      ]
     },
     "execution_count": 12,
     "metadata": {},
     "output_type": "execute_result"
    }
   ],
   "source": [
    "# Get column names to call later\n",
    "\n",
    "unclean_midwest.columns"
   ]
  },
  {
   "cell_type": "code",
   "execution_count": 13,
   "metadata": {},
   "outputs": [],
   "source": [
    "# Obtain \"Degree of identifying\" for midwest data\n",
    "\n",
    "clean_midwest['Degree of ident.'] = unclean_midwest.loc[:,'A lot':'Not at all'].ffill(1).loc[:,'Not at all']"
   ]
  },
  {
   "cell_type": "code",
   "execution_count": 14,
   "metadata": {},
   "outputs": [],
   "source": [
    "# Next obtain midwest selection of states from respondant choices\n",
    "\n",
    "midwest_resp = unclean_midwest.loc[:,'Illinois':'Wyoming']\n",
    "\n",
    "clean_midwest['Midwestern?'] = midwest_resp.apply(lambda row: [x for x in row.dropna()], axis=1)"
   ]
  },
  {
   "cell_type": "code",
   "execution_count": 15,
   "metadata": {},
   "outputs": [],
   "source": [
    "# Finally collect rest of midwestern data in same manner as southern\n",
    "\n",
    "clean_midwest['Zipcode'] = unclean_midwest['Open-Ended Response.1']\n",
    "\n",
    "clean_midwest['Gender'] = unclean_midwest.loc[:,'Male':'Female'].ffill(1).loc[:,'Female']\n",
    "\n",
    "clean_midwest['Age Range'] = unclean_midwest.loc[:, '< 18':'> 60'].ffill(1).loc[:, '> 60']\n",
    "\n",
    "clean_midwest['Income'] = unclean_midwest.loc[:, '$0 - $24,999':'$150,000+'].ffill(1).loc[:, '$150,000+']\n",
    "\n",
    "clean_midwest['Education'] = unclean_midwest.loc[\n",
    "                             :, 'Less than high school degree':'Graduate degree'\n",
    "                             ].ffill(1).loc[:, 'Graduate degree']\n",
    "\n",
    "clean_midwest['Census Region'] = unclean_midwest.loc[:,'New England':'Pacific'].ffill(1).loc[:,'Pacific']"
   ]
  },
  {
   "cell_type": "code",
   "execution_count": 16,
   "metadata": {
    "scrolled": false
   },
   "outputs": [
    {
     "name": "stdout",
     "output_type": "stream",
     "text": [
      "<class 'pandas.core.frame.DataFrame'>\n",
      "Int64Index: 2778 entries, 3126807211 to 3120591286\n",
      "Data columns (total 9 columns):\n",
      "Written in Response    2777 non-null object\n",
      "Degree of ident.       2778 non-null object\n",
      "Midwestern?            2778 non-null object\n",
      "Zipcode                2524 non-null object\n",
      "Gender                 2503 non-null object\n",
      "Age Range              2503 non-null object\n",
      "Income                 2435 non-null object\n",
      "Education              2473 non-null object\n",
      "Census Region          2494 non-null object\n",
      "dtypes: object(9)\n",
      "memory usage: 217.0+ KB\n",
      "None\n",
      "           Written in Response Degree of ident.  \\\n",
      "3126807211            Southern         Not much   \n",
      "3126802202             Midwest            A lot   \n",
      "3126791039             Midwest         Not much   \n",
      "3126780936            Mid-west            A lot   \n",
      "3126779836             Midwest            A lot   \n",
      "\n",
      "                                                  Midwestern? Zipcode Gender  \\\n",
      "3126807211                                         [Colorado]   74070   Male   \n",
      "3126802202  [Illinois, Indiana, Iowa, Kansas, Michigan, Mi...     NaN    NaN   \n",
      "3126791039  [Illinois, Iowa, Michigan, Minnesota, Missouri...   44106   Male   \n",
      "3126780936  [Illinois, Indiana, Michigan, Minnesota, Ohio,...   48185   Male   \n",
      "3126779836                 [Iowa, Kansas, Missouri, Colorado]     NaN    NaN   \n",
      "\n",
      "           Age Range             Income                     Education  \\\n",
      "3126807211     18-29  $50,000 - $99,999            High school degree   \n",
      "3126802202       NaN                NaN                           NaN   \n",
      "3126791039     18-29       $0 - $24,999  Associate or bachelor degree   \n",
      "3126780936     18-29  $25,000 - $49,999  Associate or bachelor degree   \n",
      "3126779836       NaN                NaN                           NaN   \n",
      "\n",
      "                 Census Region  \n",
      "3126807211  West South Central  \n",
      "3126802202                 NaN  \n",
      "3126791039  East North Central  \n",
      "3126780936  East North Central  \n",
      "3126779836                 NaN  \n"
     ]
    }
   ],
   "source": [
    "# Check result\n",
    "\n",
    "print(clean_midwest.info())\n",
    "print(clean_midwest.head())"
   ]
  },
  {
   "cell_type": "markdown",
   "metadata": {},
   "source": [
    "## 3. Remove Remaining NaN Values From South and Midwest"
   ]
  },
  {
   "cell_type": "code",
   "execution_count": 17,
   "metadata": {},
   "outputs": [],
   "source": [
    "# Finally, drop rows with NaN values from income and education so final data can be compared\n",
    "# with full answers from each respondant.\n",
    "\n",
    "clean_midwest = clean_midwest.dropna(subset=['Income', 'Education'], how = 'any')\n",
    "\n",
    "clean_south = clean_south.dropna(subset=['Income', 'Education'], how = 'any')"
   ]
  },
  {
   "cell_type": "code",
   "execution_count": 18,
   "metadata": {},
   "outputs": [
    {
     "name": "stdout",
     "output_type": "stream",
     "text": [
      "<class 'pandas.core.frame.DataFrame'>\n",
      "Int64Index: 2430 entries, 3126807211 to 3120647870\n",
      "Data columns (total 9 columns):\n",
      "Written in Response    2429 non-null object\n",
      "Degree of ident.       2430 non-null object\n",
      "Midwestern?            2430 non-null object\n",
      "Zipcode                2430 non-null object\n",
      "Gender                 2430 non-null object\n",
      "Age Range              2430 non-null object\n",
      "Income                 2430 non-null object\n",
      "Education              2430 non-null object\n",
      "Census Region          2421 non-null object\n",
      "dtypes: object(9)\n",
      "memory usage: 189.8+ KB\n",
      "None\n",
      "<class 'pandas.core.frame.DataFrame'>\n",
      "Int64Index: 2261 entries, 3190851410 to 3184114835\n",
      "Data columns (total 9 columns):\n",
      "Written in Response    2261 non-null object\n",
      "Degree of ident.       2261 non-null object\n",
      "Southern?              2261 non-null object\n",
      "Zipcode                2261 non-null object\n",
      "Gender                 2261 non-null object\n",
      "Age Range              2261 non-null object\n",
      "Income                 2261 non-null object\n",
      "Education              2261 non-null object\n",
      "Census Region          2251 non-null object\n",
      "dtypes: object(9)\n",
      "memory usage: 176.6+ KB\n",
      "None\n"
     ]
    }
   ],
   "source": [
    "# Check results\n",
    "print(clean_midwest.info())\n",
    "print(clean_south.info())"
   ]
  },
  {
   "cell_type": "markdown",
   "metadata": {},
   "source": [
    "## 4. Read Household income from 2014"
   ]
  },
  {
   "cell_type": "code",
   "execution_count": 19,
   "metadata": {},
   "outputs": [],
   "source": [
    "# Put the raw household income from the xls file into a dataframe\n",
    "\n",
    "raw_house_inc = pd.read_excel('Raw_Data/Household_income_1984_2018.xls', skiprows = [0,1,2,3, 5])"
   ]
  },
  {
   "cell_type": "code",
   "execution_count": 20,
   "metadata": {},
   "outputs": [
    {
     "name": "stdout",
     "output_type": "stream",
     "text": [
      "<class 'pandas.core.frame.DataFrame'>\n",
      "RangeIndex: 109 entries, 0 to 108\n",
      "Data columns (total 75 columns):\n",
      "State            108 non-null object\n",
      "2018             106 non-null object\n",
      "Unnamed: 2       105 non-null object\n",
      "2017 (40)        106 non-null object\n",
      "Unnamed: 4       105 non-null object\n",
      "2017             106 non-null object\n",
      "Unnamed: 6       105 non-null object\n",
      "2016             106 non-null object\n",
      "Unnamed: 8       105 non-null object\n",
      "2015             106 non-null object\n",
      "Unnamed: 10      105 non-null object\n",
      "2014             106 non-null object\n",
      "Unnamed: 12      105 non-null object\n",
      "2013 (39)        106 non-null object\n",
      "Unnamed: 14      105 non-null object\n",
      "2013 (38)        106 non-null object\n",
      "Unnamed: 16      105 non-null object\n",
      "2012             106 non-null object\n",
      "Unnamed: 18      105 non-null object\n",
      "2011             106 non-null object\n",
      "Unnamed: 20      105 non-null object\n",
      "2010 (37)        106 non-null object\n",
      "Unnamed: 22      105 non-null object\n",
      "2009 (36)        106 non-null object\n",
      "Unnamed: 24      105 non-null object\n",
      "2008             106 non-null object\n",
      "Unnamed: 26      105 non-null object\n",
      "2007             106 non-null object\n",
      "Unnamed: 28      105 non-null object\n",
      "2006             106 non-null object\n",
      "Unnamed: 30      105 non-null object\n",
      "2005             106 non-null object\n",
      "Unnamed: 32      105 non-null object\n",
      "2004(revised)    106 non-null object\n",
      "Unnamed: 34      105 non-null object\n",
      "2003             106 non-null object\n",
      "Unnamed: 36      105 non-null object\n",
      "2002             106 non-null object\n",
      "Unnamed: 38      105 non-null object\n",
      "2001             106 non-null object\n",
      "Unnamed: 40      105 non-null object\n",
      "2000 (30)        106 non-null object\n",
      "Unnamed: 42      105 non-null object\n",
      "1999 (29)        106 non-null object\n",
      "Unnamed: 44      105 non-null object\n",
      "1998             106 non-null object\n",
      "Unnamed: 46      105 non-null object\n",
      "1997             106 non-null object\n",
      "Unnamed: 48      105 non-null object\n",
      "1996             106 non-null object\n",
      "Unnamed: 50      105 non-null object\n",
      "1995 (25)        106 non-null object\n",
      "Unnamed: 52      105 non-null object\n",
      "1994 (24)        106 non-null object\n",
      "Unnamed: 54      105 non-null object\n",
      "1993 (23)        106 non-null object\n",
      "Unnamed: 56      105 non-null object\n",
      "1992 (22)        106 non-null object\n",
      "Unnamed: 58      105 non-null object\n",
      "1991             106 non-null object\n",
      "Unnamed: 60      105 non-null object\n",
      "1990             106 non-null object\n",
      "Unnamed: 62      105 non-null object\n",
      "1989             106 non-null object\n",
      "Unnamed: 64      105 non-null object\n",
      "1988             106 non-null object\n",
      "Unnamed: 66      105 non-null object\n",
      "1987 (21)        106 non-null object\n",
      "Unnamed: 68      105 non-null object\n",
      "1986             106 non-null object\n",
      "Unnamed: 70      105 non-null object\n",
      "1985 (20)        106 non-null object\n",
      "Unnamed: 72      105 non-null object\n",
      "1984 (19)        106 non-null object\n",
      "Unnamed: 74      105 non-null object\n",
      "dtypes: object(75)\n",
      "memory usage: 63.9+ KB\n",
      "None\n",
      "['United States' 'Alabama' 'Alaska' 'Arizona' 'Arkansas' 'California'\n",
      " 'Colorado' 'Connecticut' 'Delaware' 'D.C.' 'Florida' 'Georgia' 'Hawaii'\n",
      " 'Idaho' 'Illinois' 'Indiana' 'Iowa' 'Kansas' 'Kentucky' 'Louisiana'\n",
      " 'Maine' 'Maryland' 'Massachusetts' 'Michigan' 'Minnesota' 'Mississippi'\n",
      " 'Missouri' 'Montana' 'Nebraska' 'Nevada' 'New Hampshire' 'New Jersey'\n",
      " 'New Mexico' 'New York' 'North Carolina' 'North Dakota' 'Ohio' 'Oklahoma'\n",
      " 'Oregon' 'Pennsylvania' 'Rhode Island' 'South Carolina' 'South Dakota'\n",
      " 'Tennessee' 'Texas' 'Utah' 'Vermont' 'Virginia' 'Washington'\n",
      " 'West Virginia' 'Wisconsin' 'Wyoming' '2018 DOLLARS' 'State' nan\n",
      " 'United States' 'Alabama' 'Alaska' 'Arizona' 'Arkansas' 'California'\n",
      " 'Colorado' 'Connecticut' 'Delaware' 'D.C.' 'Florida' 'Georgia' 'Hawaii'\n",
      " 'Idaho' 'Illinois' 'Indiana' 'Iowa' 'Kansas' 'Kentucky' 'Louisiana'\n",
      " 'Maine' 'Maryland' 'Massachusetts' 'Michigan' 'Minnesota' 'Mississippi'\n",
      " 'Missouri' 'Montana' 'Nebraska' 'Nevada' 'New Hampshire' 'New Jersey'\n",
      " 'New Mexico' 'New York' 'North Carolina' 'North Dakota' 'Ohio' 'Oklahoma'\n",
      " 'Oregon' 'Pennsylvania' 'Rhode Island' 'South Carolina' 'South Dakota'\n",
      " 'Tennessee' 'Texas' 'Utah' 'Vermont' 'Virginia' 'Washington'\n",
      " 'West Virginia' 'Wisconsin' 'Wyoming'\n",
      " 'Source: U.S. Bureau of the Census, Current Population Survey, Annual Social and Economic Supplements. For information on confidentiality protection, sampling error, nonsampling error, and definitions, see <www2.census.gov/programs-surveys/cps/techdocs/cpsmar19.pdf>.'\n",
      " 'Footnotes are available at <www.census.gov/topics/income-poverty/income/guidance/cps-historic-footnotes.html>.']\n"
     ]
    }
   ],
   "source": [
    "# Explore data to understand how rows and columns are organized\n",
    "\n",
    "print(raw_house_inc.info())\n",
    "\n",
    "# Check to see why there are over a hundred values for states when there should be 50\n",
    "\n",
    "print(raw_house_inc.State.values)"
   ]
  },
  {
   "cell_type": "code",
   "execution_count": 21,
   "metadata": {},
   "outputs": [
    {
     "name": "stdout",
     "output_type": "stream",
     "text": [
      "<class 'pandas.core.frame.DataFrame'>\n",
      "Index: 52 entries, United States to Wyoming\n",
      "Data columns (total 2 columns):\n",
      "2014              52 non-null object\n",
      "Standard error    52 non-null object\n",
      "dtypes: object(2)\n",
      "memory usage: 1.2+ KB\n"
     ]
    }
   ],
   "source": [
    "# Extract the top half of the data for just the first set of states, then issolate\n",
    "# information for the year 2014.\n",
    "\n",
    "clean_house_inc = raw_house_inc.set_index('State').iloc[:52, 10:12].rename(\n",
    "                        columns = {'Unnamed: 12' : 'Standard error'}\n",
    "                        )\n",
    "\n",
    "# Check result\n",
    "\n",
    "clean_house_inc.info()"
   ]
  },
  {
   "cell_type": "markdown",
   "metadata": {},
   "source": [
    "## 5. Export cleaned Dataframes to Local CSVs"
   ]
  },
  {
   "cell_type": "code",
   "execution_count": 22,
   "metadata": {},
   "outputs": [],
   "source": [
    "clean_midwest.to_csv(r'C:\\Jupyter_Notebooks\\Capstone 1 project\\Clean_Data\\clean_midwest.csv')\n",
    "clean_south.to_csv(r'C:\\Jupyter_Notebooks\\Capstone 1 project\\Clean_Data\\clean_south.csv')\n",
    "clean_house_inc.to_csv(r'C:\\Jupyter_Notebooks\\Capstone 1 project\\Clean_Data\\clean_house_inc.csv')"
   ]
  }
 ],
 "metadata": {
  "kernelspec": {
   "display_name": "Python 3",
   "language": "python",
   "name": "python3"
  },
  "language_info": {
   "codemirror_mode": {
    "name": "ipython",
    "version": 3
   },
   "file_extension": ".py",
   "mimetype": "text/x-python",
   "name": "python",
   "nbconvert_exporter": "python",
   "pygments_lexer": "ipython3",
   "version": "3.7.3"
  }
 },
 "nbformat": 4,
 "nbformat_minor": 2
}
